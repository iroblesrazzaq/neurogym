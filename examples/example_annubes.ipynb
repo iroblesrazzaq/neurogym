{
 "cells": [
  {
   "cell_type": "code",
   "execution_count": null,
   "metadata": {},
   "outputs": [],
   "source": [
    "import neurogym as ngym\n",
    "from neurogym.envs.annubes import AnnubesEnv\n",
    "\n",
    "env = AnnubesEnv()\n",
    "print(env.timing)\n",
    "print(\"----------------\")\n",
    "print(env.observation_space)\n",
    "print(env.observation_space.name)\n",
    "print(\"----------------\")\n",
    "print(env.action_space)\n",
    "print(env.action_space.name)"
   ]
  },
  {
   "cell_type": "code",
   "execution_count": null,
   "metadata": {},
   "outputs": [],
   "source": [
    "fig = ngym.utils.plot_env(\n",
    "    env,\n",
    "    ob_traces=[\"fixation\", \"start\", \"v\", \"a\"],\n",
    "    num_trials=10\n",
    ")"
   ]
  },
  {
   "cell_type": "code",
   "execution_count": null,
   "metadata": {},
   "outputs": [],
   "source": [
    "import warnings\n",
    "\n",
    "from stable_baselines3 import A2C  # ACER, PPO2\n",
    "from stable_baselines3.common.vec_env import DummyVecEnv\n",
    "\n",
    "warnings.filterwarnings(\"default\")\n",
    "\n",
    "# Optional: PPO2 requires a vectorized environment to run\n",
    "# the env is now wrapped automatically when passing it to the constructor\n",
    "env = DummyVecEnv([lambda: AnnubesEnv()])\n",
    "\n",
    "model = A2C(\"MlpPolicy\", env, verbose=0)\n",
    "model.learn(total_timesteps=20000, log_interval=1000)\n",
    "env.close()"
   ]
  },
  {
   "cell_type": "code",
   "execution_count": null,
   "metadata": {},
   "outputs": [],
   "source": [
    "env = AnnubesEnv()\n",
    "env = DummyVecEnv([lambda: env])\n",
    "# plot example trials with random agent\n",
    "data = ngym.utils.plot_env(env, num_trials=5, ob_traces=[\"fixation\", \"start\", \"v\", \"a\"], model=model)"
   ]
  },
  {
   "cell_type": "code",
   "execution_count": null,
   "metadata": {},
   "outputs": [],
   "source": []
  }
 ],
 "metadata": {
  "kernelspec": {
   "display_name": "neurogym",
   "language": "python",
   "name": "python3"
  },
  "language_info": {
   "codemirror_mode": {
    "name": "ipython",
    "version": 3
   },
   "file_extension": ".py",
   "mimetype": "text/x-python",
   "name": "python",
   "nbconvert_exporter": "python",
   "pygments_lexer": "ipython3",
   "version": "3.11.9"
  }
 },
 "nbformat": 4,
 "nbformat_minor": 2
}
